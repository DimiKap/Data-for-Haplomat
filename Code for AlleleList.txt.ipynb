{
 "cells": [
  {
   "cell_type": "code",
   "execution_count": 4,
   "id": "e398b396",
   "metadata": {},
   "outputs": [
    {
     "name": "stdout",
     "output_type": "stream",
     "text": [
      "Enter input file name:\n",
      "C:/Users/dimik/Desktop/UOC/Project/genomes_project/GLS/input/complete/complete_GLS_glid.txt\n"
     ]
    }
   ],
   "source": [
    "## https://github.com/DKMS/Hapl-o-Mat/blob/master/prepareData/BuildAlleleList.py\n",
    "\n",
    "from collections import defaultdict\n",
    "\n",
    "fileInName = input(\"Enter input file name:\\n\")\n",
    "fileOutName = 'AlleleList.txt'\n",
    "\n",
    "allelesPerLocus = defaultdict(set)\n",
    "with open(fileInName) as fileIn:\n",
    "    for line in fileIn:\n",
    "        line = line.rstrip('\\n')\n",
    "        idAndGenotypes = line.split(';')\n",
    "\n",
    "        id = idAndGenotypes[0]\n",
    "        connectedGenotypes = idAndGenotypes[1]\n",
    "        alleles = []\n",
    "        if('|' in connectedGenotypes):\n",
    "            genotypes = connectedGenotypes.split('|')\n",
    "            for genotype in genotypes:\n",
    "                alleles.extend(genotype.split('+'))\n",
    "        elif('/' in connectedGenotypes):\n",
    "            alleleList = connectedGenotypes.split('+')\n",
    "            alleles.extend(alleleList[0].split('/'))\n",
    "            alleles.extend(alleleList[1].split('/'))\n",
    "        else:\n",
    "            alleles = connectedGenotypes.split('+')\n",
    "\n",
    "        locus = alleles[0].split('*')[0]\n",
    "        allelesPerLocus[locus].update(alleles)\n",
    "\n",
    "sortedAllelesPerLocus = []\n",
    "for locus in allelesPerLocus:\n",
    "    for allele in allelesPerLocus[locus]:\n",
    "        sortedAllelesPerLocus.append(allele)\n",
    "\n",
    "sortedAllelesPerLocus.sort()\n",
    "\n",
    "with open(fileOutName, 'w') as out:\n",
    "    out.write('\\n'.join(sortedAllelesPerLocus) + '\\n')"
   ]
  },
  {
   "cell_type": "code",
   "execution_count": null,
   "id": "35121e16",
   "metadata": {},
   "outputs": [],
   "source": []
  },
  {
   "cell_type": "code",
   "execution_count": 3,
   "id": "a09a2b9a",
   "metadata": {},
   "outputs": [
    {
     "ename": "SyntaxError",
     "evalue": "invalid syntax (<ipython-input-3-5ac0b2701e85>, line 61)",
     "output_type": "error",
     "traceback": [
      "\u001b[1;36m  File \u001b[1;32m\"<ipython-input-3-5ac0b2701e85>\"\u001b[1;36m, line \u001b[1;32m61\u001b[0m\n\u001b[1;33m    for single_locus in [A,B,C,DQB1,DRB1]:\u001b[0m\n\u001b[1;37m                                         ^\u001b[0m\n\u001b[1;31mSyntaxError\u001b[0m\u001b[1;31m:\u001b[0m invalid syntax\n"
     ]
    }
   ],
   "source": []
  },
  {
   "cell_type": "code",
   "execution_count": null,
   "id": "6ad71e4c",
   "metadata": {},
   "outputs": [],
   "source": []
  },
  {
   "cell_type": "code",
   "execution_count": null,
   "id": "19223d9a",
   "metadata": {},
   "outputs": [],
   "source": []
  },
  {
   "cell_type": "code",
   "execution_count": null,
   "id": "8771537f",
   "metadata": {},
   "outputs": [],
   "source": [
    "C:/Users/dimik/Desktop/UOC/Project/Task1/population_files/complete_GLS_glid.txt"
   ]
  }
 ],
 "metadata": {
  "kernelspec": {
   "display_name": "Python 3",
   "language": "python",
   "name": "python3"
  },
  "language_info": {
   "codemirror_mode": {
    "name": "ipython",
    "version": 3
   },
   "file_extension": ".py",
   "mimetype": "text/x-python",
   "name": "python",
   "nbconvert_exporter": "python",
   "pygments_lexer": "ipython3",
   "version": "3.8.8"
  }
 },
 "nbformat": 4,
 "nbformat_minor": 5
}
