{
 "cells": [
  {
   "cell_type": "code",
   "execution_count": null,
   "id": "20a25b1d",
   "metadata": {},
   "outputs": [],
   "source": [
    "def f(file):\n",
    "    with open(file) as f:\n",
    "        output_list = []\n",
    "        for line in f:\n",
    "            line = line.strip().split('\\t')\n",
    "            frequency = line[1]\n",
    "            haplotype = line[0].split('~')\n",
    "            d = {}\n",
    "            for locus in haplotype:\n",
    "                locus = locus.split('*')\n",
    "                d[locus[0]] = locus[1]\n",
    "            output_list.append((d,frequency))\n",
    "    return output_list"
   ]
  }
 ],
 "metadata": {
  "kernelspec": {
   "display_name": "Python 3",
   "language": "python",
   "name": "python3"
  },
  "language_info": {
   "codemirror_mode": {
    "name": "ipython",
    "version": 3
   },
   "file_extension": ".py",
   "mimetype": "text/x-python",
   "name": "python",
   "nbconvert_exporter": "python",
   "pygments_lexer": "ipython3",
   "version": "3.8.8"
  }
 },
 "nbformat": 4,
 "nbformat_minor": 5
}
