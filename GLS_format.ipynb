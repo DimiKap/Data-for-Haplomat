{
 "cells": [
  {
   "cell_type": "code",
   "execution_count": 12,
   "id": "90558639",
   "metadata": {},
   "outputs": [],
   "source": [
    "# Κώδικας που μας είχατε δώσει στο μάθημα\n",
    "\n",
    "import urllib3\n",
    "import re\n",
    "def download(url, filename):\n",
    "    '''\n",
    "    Downloads the file that is located in \"url\" and saves it in \"filename\"\n",
    "    Adapted from: https://stackoverflow.com/a/17285906/5626738 \n",
    "    '''\n",
    "\n",
    "    chunk_size = 1024 * 1024 # 1MB chunk size\n",
    "    http = urllib3.PoolManager()\n",
    "    r = http.request('GET', url, preload_content=False)\n",
    "\n",
    "    with open(filename, 'wb') as out, http.request('GET', url, preload_content=False) as r:\n",
    "        while True:\n",
    "            data = r.read(chunk_size)\n",
    "            if not data:\n",
    "                break\n",
    "            out.write(data)\n",
    "            \n",
    "download('http://ftp.1000genomes.ebi.ac.uk/vol1/ftp/data_collections/HLA_types/20181129_HLA_types_full_1000_Genomes_Project_panel.txt', 'Genotypes')\n",
    "\n",
    "# Input Format GLS / pull and glid file\n",
    "# Removes \"*\" from the end of the loci they exist\n",
    "\n",
    "d={}\n",
    "with open('Genotypes') as f:\n",
    "    \n",
    "    l = f.readline()\n",
    "    l = l.strip().split('\\t')\n",
    "    i=1\n",
    "    \n",
    "    for line in f:\n",
    "        l = line.strip().split('\\t')\n",
    "        identification_number = l[2]\n",
    "\n",
    "        # Remove \"*\"\n",
    "        new_list = []\n",
    "        for item in l:\n",
    "            if '*'in item:\n",
    "                item = item.strip('*')\n",
    "                new_list.append(item)\n",
    "            else:\n",
    "                new_list.append(item)\n",
    "\n",
    "        A = 'A*{}+A*{}'.format(new_list[3],new_list[4]) if new_list[3] != \"\" and new_list[4]!= \"\" else 0\n",
    "        B = 'B*{}+B*{}'.format(new_list[5],new_list[6]) if new_list[5] != \"\" and new_list[6]!= \"\" else 0\n",
    "        C = 'C*{}+C*{}'.format(new_list[7],new_list[8]) if new_list[7] != \"\" and new_list[8]!= \"\" else 0\n",
    "        DQB1 = 'DQB1*{}+DQB1*{}'.format(new_list[9],new_list[10]) if new_list[9] != \"\" and new_list[10]!= \"\" else 0\n",
    "        DRB1 = 'DRB1*{}+DRB1*{}'.format(new_list[11],new_list[12]) if new_list[11] != \"\" and new_list[12]!= \"\" else 0\n",
    "                        \n",
    "        for single_locus in [A,B,C,DQB1,DRB1]:\n",
    "            if single_locus not in d.keys() and single_locus != 0:\n",
    "                d[single_locus] = i\n",
    "                i += 1\n",
    "                \n",
    "        with open('C:/Users/dimik/Desktop/UOC/Project/genomes_project/GLS/input/complete/complete_GLS_pull.txt', \"a+\") as g:\n",
    "            g.write(\"{};\".format(identification_number))\n",
    "            for single_locus in [A,B,C,DQB1,DRB1]:   \n",
    "                if single_locus == 0:\n",
    "                    g.write(\"0\")\n",
    "                else:\n",
    "                    g.write(\"{}\".format(d[single_locus]))\n",
    "                if single_locus != DRB1:\n",
    "                    g.write(':')\n",
    "                else:\n",
    "                    g.write('\\n')          \n",
    "\n",
    "with open('C:/Users/dimik/Desktop/UOC/Project/genomes_project/GLS/input/complete/complete_GLS_glid.txt', \"a+\") as g:\n",
    "    for single_locus,number in d.items():\n",
    "        g.write(\"{};{}\\n\".format(number,single_locus))\n",
    "\n"
   ]
  },
  {
   "cell_type": "code",
   "execution_count": null,
   "id": "b5040a02",
   "metadata": {},
   "outputs": [],
   "source": []
  },
  {
   "cell_type": "code",
   "execution_count": null,
   "id": "6bce3c58",
   "metadata": {},
   "outputs": [],
   "source": []
  },
  {
   "cell_type": "code",
   "execution_count": null,
   "id": "f0e37b3e",
   "metadata": {},
   "outputs": [],
   "source": []
  },
  {
   "cell_type": "code",
   "execution_count": null,
   "id": "95d59099",
   "metadata": {},
   "outputs": [],
   "source": []
  },
  {
   "cell_type": "code",
   "execution_count": null,
   "id": "2f4c90f1",
   "metadata": {},
   "outputs": [],
   "source": []
  },
  {
   "cell_type": "code",
   "execution_count": null,
   "id": "67ff26f7",
   "metadata": {},
   "outputs": [],
   "source": []
  },
  {
   "cell_type": "code",
   "execution_count": null,
   "id": "341773d4",
   "metadata": {},
   "outputs": [],
   "source": []
  },
  {
   "cell_type": "code",
   "execution_count": null,
   "id": "37a8b8e0",
   "metadata": {},
   "outputs": [],
   "source": []
  },
  {
   "cell_type": "code",
   "execution_count": null,
   "id": "93c138ca",
   "metadata": {},
   "outputs": [],
   "source": []
  },
  {
   "cell_type": "code",
   "execution_count": null,
   "id": "28e1ba4c",
   "metadata": {},
   "outputs": [],
   "source": []
  },
  {
   "cell_type": "code",
   "execution_count": null,
   "id": "55fb1af1",
   "metadata": {},
   "outputs": [],
   "source": []
  },
  {
   "cell_type": "code",
   "execution_count": null,
   "id": "697d5f92",
   "metadata": {},
   "outputs": [],
   "source": []
  },
  {
   "cell_type": "code",
   "execution_count": null,
   "id": "4b71d9a9",
   "metadata": {},
   "outputs": [],
   "source": []
  },
  {
   "cell_type": "code",
   "execution_count": null,
   "id": "72fec99c",
   "metadata": {},
   "outputs": [],
   "source": []
  },
  {
   "cell_type": "code",
   "execution_count": null,
   "id": "166df6f0",
   "metadata": {},
   "outputs": [],
   "source": []
  },
  {
   "cell_type": "code",
   "execution_count": null,
   "id": "a9fb7b3a",
   "metadata": {},
   "outputs": [],
   "source": []
  },
  {
   "cell_type": "code",
   "execution_count": null,
   "id": "18abff61",
   "metadata": {},
   "outputs": [],
   "source": []
  },
  {
   "cell_type": "code",
   "execution_count": null,
   "id": "a4330ed9",
   "metadata": {},
   "outputs": [],
   "source": []
  },
  {
   "cell_type": "code",
   "execution_count": null,
   "id": "439a9c92",
   "metadata": {},
   "outputs": [],
   "source": []
  },
  {
   "cell_type": "code",
   "execution_count": null,
   "id": "715fbada",
   "metadata": {},
   "outputs": [],
   "source": []
  },
  {
   "cell_type": "code",
   "execution_count": null,
   "id": "5be07a3c",
   "metadata": {},
   "outputs": [],
   "source": []
  },
  {
   "cell_type": "code",
   "execution_count": null,
   "id": "be247f6c",
   "metadata": {},
   "outputs": [],
   "source": []
  },
  {
   "cell_type": "code",
   "execution_count": null,
   "id": "c71429e2",
   "metadata": {},
   "outputs": [],
   "source": []
  },
  {
   "cell_type": "code",
   "execution_count": null,
   "id": "56a23c4c",
   "metadata": {},
   "outputs": [],
   "source": []
  }
 ],
 "metadata": {
  "kernelspec": {
   "display_name": "Python 3",
   "language": "python",
   "name": "python3"
  },
  "language_info": {
   "codemirror_mode": {
    "name": "ipython",
    "version": 3
   },
   "file_extension": ".py",
   "mimetype": "text/x-python",
   "name": "python",
   "nbconvert_exporter": "python",
   "pygments_lexer": "ipython3",
   "version": "3.8.8"
  }
 },
 "nbformat": 4,
 "nbformat_minor": 5
}
